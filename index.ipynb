{
 "cells": [
  {
   "attachments": {},
   "cell_type": "raw",
   "metadata": {},
   "source": [
    "--- \n",
    "author: Angel Alcala Ruiz\n",
    "date: November 20, 2023\n",
    "format:\n",
    "    html:\n",
    "        code-fold: show\n",
    "        code-tools: true\n",
    "--- "
   ]
  },
  {
   "attachments": {},
   "cell_type": "markdown",
   "metadata": {},
   "source": [
    "# Project Euler"
   ]
  },
  {
   "cell_type": "markdown",
   "metadata": {},
   "source": [
    "### Problem 5: Smallest Multiple"
   ]
  },
  {
   "attachments": {},
   "cell_type": "markdown",
   "metadata": {},
   "source": [
    "2520 is the smallest number that can be divided by each of the numbers from 1 to 10 without any remainder.\n",
    "\n",
    "What is the smallest positive number that is *evenly divisible* by all of the numbers from 1 to 20?"
   ]
  },
  {
   "attachments": {},
   "cell_type": "markdown",
   "metadata": {},
   "source": [
    "Let's solve this problem using **Julia**"
   ]
  },
  {
   "cell_type": "code",
   "execution_count": 17,
   "metadata": {},
   "outputs": [
    {
     "data": {
      "text/plain": [
       "SmallestMultiple (generic function with 1 method)"
      ]
     },
     "metadata": {},
     "output_type": "display_data"
    }
   ],
   "source": [
    "function SmallestMultiple(n)\n",
    "\n",
    "#' @@name SmallestMultiple\n",
    "#'\n",
    "#' @@description\n",
    "#'\n",
    "#' This function finds the smallest positive number that is evenly divisible by by all the numbers from 1 to n\n",
    "#'\n",
    "#' @@arg n: A positive integer n\n",
    "#'\n",
    "#' @@return The smallest positive number that is evenly divisible by by all the numbers from 1 to n\n",
    "#'\n",
    "#' @@examples\n",
    "#'\n",
    "#' n = 10\n",
    "#' SmallestMultiple(n) \n",
    "\n",
    "    smallest_multiple = 0\n",
    "    multiple = n\n",
    "\n",
    "    while true\n",
    "        count = 0\n",
    "        for index = 1:n\n",
    "\n",
    "            if lcm(multiple,index) == lcm(multiple,1)\n",
    "                count = count + 1\n",
    "            else\n",
    "                continue\n",
    "            end\n",
    "        end\n",
    "\n",
    "        if count == n\n",
    "            smallest_multiple = multiple\n",
    "            break\n",
    "        end\n",
    "        multiple = multiple + 1\n",
    "    end\n",
    "\n",
    "    return smallest_multiple\n",
    "end"
   ]
  },
  {
   "attachments": {},
   "cell_type": "markdown",
   "metadata": {},
   "source": [
    "Now let's test our code with the given example"
   ]
  },
  {
   "cell_type": "code",
   "execution_count": 18,
   "metadata": {},
   "outputs": [
    {
     "data": {
      "text/plain": [
       "2520"
      ]
     },
     "metadata": {},
     "output_type": "display_data"
    }
   ],
   "source": [
    "SmallestMultiple(10)"
   ]
  },
  {
   "attachments": {},
   "cell_type": "markdown",
   "metadata": {},
   "source": [
    "We can see that we get 2520 which is the smallest number that is evenly divisible by all of the numbers from 1 to 10."
   ]
  },
  {
   "attachments": {},
   "cell_type": "markdown",
   "metadata": {},
   "source": [
    "Now let's find the smallest multiple of all the numbers from 1 to 20"
   ]
  },
  {
   "cell_type": "code",
   "execution_count": 19,
   "metadata": {},
   "outputs": [
    {
     "data": {
      "text/plain": [
       "232792560"
      ]
     },
     "metadata": {},
     "output_type": "display_data"
    }
   ],
   "source": [
    "SmallestMultiple(20)"
   ]
  },
  {
   "attachments": {},
   "cell_type": "markdown",
   "metadata": {},
   "source": [
    "Therefore we get that the smallest number that is evenly divisible by all of the numbers from 1 to 20 is 232,792,560. "
   ]
  }
 ],
 "metadata": {
  "kernelspec": {
   "display_name": "Julia 1.8.3",
   "language": "julia",
   "name": "julia-1.8"
  },
  "language_info": {
   "file_extension": ".jl",
   "mimetype": "application/julia",
   "name": "julia",
   "version": "1.8.3"
  },
  "orig_nbformat": 4
 },
 "nbformat": 4,
 "nbformat_minor": 2
}
